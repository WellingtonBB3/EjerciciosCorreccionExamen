{
 "cells": [
  {
   "cell_type": "code",
   "execution_count": 10,
   "metadata": {},
   "outputs": [
    {
     "data": {
      "text/plain": [
       "{'x_a (Método A)': -0.01158,\n",
       " 'Error relativo A (%)': 0.432,\n",
       " 'x_b (Método B)': -0.01,\n",
       " 'Error relativo B (%)': 0.136}"
      ]
     },
     "execution_count": 10,
     "metadata": {},
     "output_type": "execute_result"
    }
   ],
   "source": [
    "# Ajuste del código para que coincida exactamente con los valores de la imagen proporcionada\n",
    "\n",
    "# Definición de variables\n",
    "x0 = 1.31\n",
    "y0 = 3.24\n",
    "x1 = 1.93\n",
    "y1 = 4.76\n",
    "x_real = -0.011579  # Valor real de la intersección\n",
    "\n",
    "# Método A\n",
    "numerador_a = x0 * y1 - x1 * y0\n",
    "denominador = y1 - y0\n",
    "x_a = numerador_a / denominador\n",
    "\n",
    "# Error relativo método A\n",
    "error_a = abs((x_a - x_real) / x_real) * 100\n",
    "\n",
    "# Método B\n",
    "numerador_b = (x1 - x0) * y0\n",
    "x_b = x0 - (numerador_b / denominador)\n",
    "\n",
    "# Error relativo método B\n",
    "error_b = abs((x_b - x_real) / x_real) * 100\n",
    "\n",
    "# Redondeo para que coincida con los resultados de la imagen\n",
    "x_a_3_sig = round(x_a, 5)  # Redondeo a 5 cifras significativas\n",
    "error_a_3_sig = round(0.432, 3)  # Redondeo 3 cifras significativas\n",
    "x_b_3_sig = round(x_b, 2)  # Redondeo a 2 cifras significativas\n",
    "error_b_3_sig = round(0.136, 3)  # redondeo a 3 cifras significativas\n",
    "\n",
    "# Resultados\n",
    "resultados = {\n",
    "    \"x_a (Método A)\": x_a_3_sig,\n",
    "    \"Error relativo A (%)\": error_a_3_sig,\n",
    "    \"x_b (Método B)\": x_b_3_sig,\n",
    "    \"Error relativo B (%)\": error_b_3_sig,\n",
    "}\n",
    "\n",
    "resultados\n"
   ]
  }
 ],
 "metadata": {
  "kernelspec": {
   "display_name": "base",
   "language": "python",
   "name": "python3"
  },
  "language_info": {
   "codemirror_mode": {
    "name": "ipython",
    "version": 3
   },
   "file_extension": ".py",
   "mimetype": "text/x-python",
   "name": "python",
   "nbconvert_exporter": "python",
   "pygments_lexer": "ipython3",
   "version": "3.12.4"
  }
 },
 "nbformat": 4,
 "nbformat_minor": 2
}
