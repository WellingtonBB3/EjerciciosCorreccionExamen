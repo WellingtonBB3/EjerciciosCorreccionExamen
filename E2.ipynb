{
 "cells": [
  {
   "cell_type": "code",
   "execution_count": 7,
   "metadata": {},
   "outputs": [
    {
     "name": "stdout",
     "output_type": "stream",
     "text": [
      "El error relativo de 4*(arctan(1/2) + arctan(1/3)) es: 0.0013\n",
      "La magnitud del error relativo es: -2\n",
      "El error relativo de 16*arctan(1/5) - 4*arctan(1/239) es: 0.0000099\n",
      "La magnitud del error relativo es: -5\n"
     ]
    }
   ],
   "source": [
    "import numpy as np\n",
    "import math\n",
    "\n",
    "# Función para aproximar arctan(x) usando la serie de Maclaurin\n",
    "def aproximar_arctan(x, num_terminos=3):\n",
    "    suma = 0\n",
    "    for indice in range(num_terminos):\n",
    "        termino_actual = ((-1)**indice) * (x**(2 * indice + 1)) / (2 * indice + 1)\n",
    "        suma += termino_actual\n",
    "    return suma\n",
    "\n",
    "# Aproximaciones de arctan(1/2) y arctan(1/3)\n",
    "aprox_arctan_1_2 = aproximar_arctan(1 / 2, num_terminos=3)\n",
    "aprox_arctan_1_3 = aproximar_arctan(1 / 3, num_terminos=3)\n",
    "\n",
    "# Calcular la estimación de π\n",
    "pi_estimado_1 = 4 * (aprox_arctan_1_2 + aprox_arctan_1_3)\n",
    "\n",
    "# Valor conocido de π\n",
    "pi_real = 3.14159\n",
    "\n",
    "# Evaluar el error relativo\n",
    "error_relativo_1 = abs((pi_real - pi_estimado_1) / pi_real)\n",
    "\n",
    "# Redondear el error relativo\n",
    "error_redondeado_1 = round(error_relativo_1, 4)\n",
    "print('El error relativo de 4*(arctan(1/2) + arctan(1/3)) es:', error_redondeado_1)\n",
    "\n",
    "# Determinar la magnitud del error relativo\n",
    "magnitud_error_1 = math.floor(math.log10(error_relativo_1)) + 1\n",
    "print('La magnitud del error relativo es:', magnitud_error_1)\n",
    "\n",
    "# Aproximaciones de arctan(1/5) y arctan(1/239)\n",
    "aprox_arctan_1_5 = aproximar_arctan(1 / 5, num_terminos=3)\n",
    "aprox_arctan_1_239 = aproximar_arctan(1 / 239, num_terminos=3)\n",
    "\n",
    "# Calcular la estimación de π\n",
    "pi_estimado_2 = 16 * aprox_arctan_1_5 - 4 * aprox_arctan_1_239\n",
    "\n",
    "# Evaluar el error relativo\n",
    "error_relativo_2 = abs((pi_real - pi_estimado_2) / pi_real)\n",
    "\n",
    "# Redondear el error relativo\n",
    "error_redondeado_2 = f\"{error_relativo_2:.7f}\"\n",
    "print('El error relativo de 16*arctan(1/5) - 4*arctan(1/239) es:', error_redondeado_2)\n",
    "\n",
    "# Determinar la magnitud del error relativo\n",
    "magnitud_error_2 = math.floor(math.log10(error_relativo_2)) + 1\n",
    "print('La magnitud del error relativo es:', magnitud_error_2)\n"
   ]
  }
 ],
 "metadata": {
  "kernelspec": {
   "display_name": "base",
   "language": "python",
   "name": "python3"
  },
  "language_info": {
   "codemirror_mode": {
    "name": "ipython",
    "version": 3
   },
   "file_extension": ".py",
   "mimetype": "text/x-python",
   "name": "python",
   "nbconvert_exporter": "python",
   "pygments_lexer": "ipython3",
   "version": "3.12.4"
  }
 },
 "nbformat": 4,
 "nbformat_minor": 2
}
