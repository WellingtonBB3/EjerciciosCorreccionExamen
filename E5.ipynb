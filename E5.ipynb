{
 "cells": [
  {
   "cell_type": "code",
   "execution_count": 2,
   "metadata": {},
   "outputs": [
    {
     "name": "stdout",
     "output_type": "stream",
     "text": [
      "Resultados del Método de Newton:\n",
      "x0 = 3 -> Converge, Raíz: 2.7692923542386993\n",
      "x0 = 1 -> Error [diverge u oscila], Raíz: None\n",
      "x0 = 0 -> Error [diverge u oscila], Raíz: None\n",
      "x0 = sqrt(6)/3 + 1 -> Error [derivada cercana a cero], Raíz: None\n"
     ]
    }
   ],
   "source": [
    "import sympy as sp\n",
    "\n",
    "# Método de Newton\n",
    "def newton_method(f, f_prime, x0, tol=1e-6, max_iter=100):\n",
    "    \"\"\"\n",
    "    Método de Newton-Raphson para encontrar raíces de una función.\n",
    "\n",
    "    Parámetros:\n",
    "        f: Función simbólica a resolver.\n",
    "        f_prime: Derivada de la función.\n",
    "        x0: Valor inicial.\n",
    "        tol: Tolerancia para la convergencia.\n",
    "        max_iter: Número máximo de iteraciones.\n",
    "\n",
    "    Retorna:\n",
    "        La raíz aproximada si converge, o un mensaje de error si no lo hace.\n",
    "    \"\"\"\n",
    "    xn = x0\n",
    "    for _ in range(max_iter):\n",
    "        fxn = f(xn)\n",
    "        f_prime_xn = f_prime(xn)\n",
    "        if abs(f_prime_xn) < 1e-10:  # Evitar divisiones por cero\n",
    "            return None, \"Error [derivada cercana a cero]\"\n",
    "        x_next = xn - fxn / f_prime_xn\n",
    "        if abs(x_next - xn) < tol:  # Verificar convergencia\n",
    "            return x_next, \"Converge\"\n",
    "        xn = x_next\n",
    "    return None, \"Error [diverge u oscila]\"\n",
    "\n",
    "# Definición de la ecuación\n",
    "x = sp.symbols('x')\n",
    "func = x**3 + x - 1 - 3*x**2\n",
    "func_prime = sp.diff(func, x)\n",
    "\n",
    "# Conversión de las funciones a Python\n",
    "f = sp.lambdify(x, func, \"numpy\")\n",
    "f_prime = sp.lambdify(x, func_prime, \"numpy\")\n",
    "\n",
    "# Valores iniciales a analizar\n",
    "x0_values = [3, 1, 0, 1 + sp.sqrt(6) / 3]\n",
    "\n",
    "# Resultados\n",
    "print(\"Resultados del Método de Newton:\")\n",
    "for x0 in x0_values:\n",
    "    raiz, estado = newton_method(f, f_prime, x0)\n",
    "    print(f\"x0 = {x0} -> {estado}, Raíz: {raiz}\")"
   ]
  }
 ],
 "metadata": {
  "kernelspec": {
   "display_name": "base",
   "language": "python",
   "name": "python3"
  },
  "language_info": {
   "codemirror_mode": {
    "name": "ipython",
    "version": 3
   },
   "file_extension": ".py",
   "mimetype": "text/x-python",
   "name": "python",
   "nbconvert_exporter": "python",
   "pygments_lexer": "ipython3",
   "version": "3.12.4"
  }
 },
 "nbformat": 4,
 "nbformat_minor": 2
}
