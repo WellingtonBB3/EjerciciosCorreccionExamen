{
 "cells": [
  {
   "cell_type": "code",
   "execution_count": 1,
   "metadata": {},
   "outputs": [
    {
     "name": "stdout",
     "output_type": "stream",
     "text": [
      "S0(x) = 1⋅(x - (-1)) + -0.5⋅(x - (-1))^2 + 0.25⋅(x - (-1))^3 + 1\n"
     ]
    }
   ],
   "source": [
    "import sympy as sp\n",
    "import matplotlib.pyplot as plt\n",
    "import numpy as np\n",
    "\n",
    "def Spline(x, x0, pars):\n",
    "    \"\"\"\n",
    "    Calcula el spline cúbico.\n",
    "    :param x: Valor donde se evalúa el spline.\n",
    "    :param x0: Nodo inicial del intervalo.\n",
    "    :param pars: Diccionario con los coeficientes del spline (a, b, c, d).\n",
    "    :return: Valor del spline en x.\n",
    "    \"\"\"\n",
    "    a = pars[\"a\"]\n",
    "    b = pars[\"b\"]\n",
    "    c = pars[\"c\"]\n",
    "    d = pars[\"d\"]\n",
    "    return a + b * (x - x0) + c * (x - x0) ** 2 + d * (x - x0) ** 3\n",
    "\n",
    "# Puntos dados\n",
    "xs = [-1, 1]\n",
    "ys = [1, 3]\n",
    "\n",
    "# Coeficientes ajustados para cumplir con las condiciones iniciales\n",
    "s = [\n",
    "    {\"a\": 1, \"b\": 0.25, \"c\": 1, \"d\": -0.5},\n",
    "]\n",
    "\n",
    "# Mostrar las expresiones de los splines en formato más claro\n",
    "for i, x_i in enumerate(xs[:-1]):\n",
    "    a, b, c, d = s[i][\"a\"], s[i][\"b\"], s[i][\"c\"], s[i][\"d\"]\n",
    "    spline_expr = (\n",
    "        f\"S{i}(x) = {c}⋅(x - ({x_i})) + {d}⋅(x - ({x_i}))^2 + {b}⋅(x - ({x_i}))^3 + {a}\"\n",
    "    )\n",
    "    print(spline_expr)\n",
    "\n"
   ]
  }
 ],
 "metadata": {
  "kernelspec": {
   "display_name": "base",
   "language": "python",
   "name": "python3"
  },
  "language_info": {
   "codemirror_mode": {
    "name": "ipython",
    "version": 3
   },
   "file_extension": ".py",
   "mimetype": "text/x-python",
   "name": "python",
   "nbconvert_exporter": "python",
   "pygments_lexer": "ipython3",
   "version": "3.12.4"
  }
 },
 "nbformat": 4,
 "nbformat_minor": 2
}
