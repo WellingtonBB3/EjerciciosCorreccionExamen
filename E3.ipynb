{
 "cells": [
  {
   "cell_type": "code",
   "execution_count": 16,
   "metadata": {},
   "outputs": [
    {
     "name": "stdout",
     "output_type": "stream",
     "text": [
      "La raíz aproximada es: 2.7692923542484045\n",
      "El número de iteraciones realizadas es: 6\n",
      "El número total de llamadas a la función es: 8\n"
     ]
    }
   ],
   "source": [
    "# Método de la secante optimizado con contador de llamadas\n",
    "def secant_method_optimized(f, x0, x1, tol=1e-6, max_iter=100):\n",
    "    x_prev = x0\n",
    "    x_curr = x1\n",
    "    iter_count = 0\n",
    "\n",
    "    # Inicializamos el contador de llamadas\n",
    "    global call_count\n",
    "    call_count = 0\n",
    "\n",
    "    # Calcular f(x_prev) y f(x_curr) solo una vez por iteración\n",
    "    f_prev = f(x_prev)\n",
    "    f_curr = f(x_curr)\n",
    "\n",
    "    while abs(f_curr) > tol and iter_count < max_iter:\n",
    "        # Calcular la siguiente aproximación utilizando la fórmula del método de la secante\n",
    "        x_next = x_curr - f_curr * (x_curr - x_prev) / (f_curr - f_prev)\n",
    "        \n",
    "        # Actualizar las variables para la siguiente iteración\n",
    "        x_prev, f_prev = x_curr, f_curr\n",
    "        x_curr, f_curr = x_next, f(x_next)\n",
    "\n",
    "        iter_count += 1\n",
    "\n",
    "    return x_curr, iter_count\n",
    "\n",
    "# Función de prueba con contador de llamadas\n",
    "def func(x):\n",
    "    global call_count\n",
    "    call_count += 1  # Incrementar el contador cada vez que se evalúe la función\n",
    "    return x**3 - 3 * x**2 + x - 1\n",
    "\n",
    "# Ejemplo 1\n",
    "x0, x1 = 2, 3\n",
    "root, iterations = secant_method_optimized(func, x0, x1)\n",
    "\n",
    "print(f\"La raíz aproximada es: {root}\")\n",
    "print(f\"El número de iteraciones realizadas es: {iterations}\")\n",
    "print(f\"El número total de llamadas a la función es: {call_count}\")\n"
   ]
  },
  {
   "cell_type": "code",
   "execution_count": 18,
   "metadata": {},
   "outputs": [
    {
     "name": "stdout",
     "output_type": "stream",
     "text": [
      "Llamada i=1\t x=2.00000\t y=1.41\n",
      "Llamada i=2\t x=3.00000\t y=0.64\n",
      "Llamada i=3\t x=3.83460\t y=-0.14\n",
      "Llamada i=4\t x=3.68602\t y=-0.02\n",
      "Llamada i=5\t x=3.66399\t y=0.00\n",
      "Llamada i=6\t x=3.66520\t y=-0.00\n",
      "Llamada i=7\t x=3.66519\t y=-0.00\n",
      "La raíz aproximada es: 3.66519143172732\n",
      "El número de iteraciones realizadas es: 5\n",
      "El número total de llamadas a la función es: 7\n"
     ]
    }
   ],
   "source": [
    "# Método de la secante optimizado\n",
    "def secant_method_optimized(f, x0, x1, tol=1e-6, max_iter=100):\n",
    "    x_prev = x0\n",
    "    x_curr = x1\n",
    "    iter_count = 0\n",
    "\n",
    "    # Inicializamos el contador de llamadas\n",
    "    global i\n",
    "    i = 0\n",
    "\n",
    "    # Calcular f(x_prev) y f(x_curr) solo una vez por iteración\n",
    "    f_prev = f(x_prev)\n",
    "    f_curr = f(x_curr)\n",
    "\n",
    "    while abs(f_curr) > tol and iter_count < max_iter:\n",
    "        # Calcular la siguiente aproximación utilizando la fórmula del método de la secante\n",
    "        x_next = x_curr - f_curr * (x_curr - x_prev) / (f_curr - f_prev)\n",
    "        \n",
    "        # Actualizar las variables para la siguiente iteración\n",
    "        x_prev, f_prev = x_curr, f_curr\n",
    "        x_curr, f_curr = x_next, f(x_next)\n",
    "\n",
    "        iter_count += 1\n",
    "\n",
    "    return x_curr, iter_count\n",
    "\n",
    "# Función para el Ejemplo 2\n",
    "import math\n",
    "\n",
    "def func(x):\n",
    "    global i\n",
    "    i += 1  # Incrementar el contador de llamadas\n",
    "    y = math.sin(x) + 0.5\n",
    "    print(f\"Llamada i={i}\\t x={x:.5f}\\t y={y:.2f}\")\n",
    "    return y\n",
    "\n",
    "# Ejemplo 2: Secant Method con math.sin(x) + 0.5\n",
    "x0, x1 = 2, 3  # Valores iniciales\n",
    "root, iterations = secant_method_optimized(func, x0, x1)\n",
    "\n",
    "# Resultados\n",
    "print(f\"La raíz aproximada es: {root}\")\n",
    "print(f\"El número de iteraciones realizadas es: {iterations}\")\n",
    "print(f\"El número total de llamadas a la función es: {i}\")\n"
   ]
  }
 ],
 "metadata": {
  "kernelspec": {
   "display_name": "base",
   "language": "python",
   "name": "python3"
  },
  "language_info": {
   "codemirror_mode": {
    "name": "ipython",
    "version": 3
   },
   "file_extension": ".py",
   "mimetype": "text/x-python",
   "name": "python",
   "nbconvert_exporter": "python",
   "pygments_lexer": "ipython3",
   "version": "3.12.4"
  }
 },
 "nbformat": 4,
 "nbformat_minor": 2
}
