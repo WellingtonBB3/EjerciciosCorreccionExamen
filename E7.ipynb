{
 "cells": [
  {
   "cell_type": "code",
   "execution_count": 1,
   "metadata": {},
   "outputs": [
    {
     "name": "stdout",
     "output_type": "stream",
     "text": [
      "Polinomio de Lagrange simplificado: x\n",
      "Orden del polinomio (original): 3\n",
      "P(3.78) = 3.780000\n",
      "P(19.102) = 19.102000\n"
     ]
    }
   ],
   "source": [
    "import sympy as sp\n",
    "\n",
    "def lagrange_polynomial(points):\n",
    "    \"\"\"\n",
    "    Calcula el polinomio de Lagrange simplificado y su orden original.\n",
    "    :param points: Lista de puntos (x_k, y_k).\n",
    "    :return: Polinomio de Lagrange y su orden original.\n",
    "    \"\"\"\n",
    "    x = sp.symbols('x')\n",
    "    n = len(points)\n",
    "    polynomial = 0\n",
    "\n",
    "    for k in range(n):\n",
    "        x_k, y_k = points[k]\n",
    "        L_k = 1\n",
    "        for i in range(n):\n",
    "            if i != k:\n",
    "                x_i, _ = points[i]\n",
    "                L_k *= (x - x_i) / (x_k - x_i)\n",
    "        polynomial += y_k * L_k\n",
    "\n",
    "    polynomial = sp.expand(polynomial)\n",
    "    order_original = n - 1  # Orden original del polinomio\n",
    "    return polynomial, order_original\n",
    "\n",
    "def evaluate_polynomial(polynomial, x_values):\n",
    "    \"\"\"\n",
    "    Evalúa el polinomio en puntos específicos.\n",
    "    :param polynomial: Polinomio de Lagrange.\n",
    "    :param x_values: Lista de valores de x donde se evaluará el polinomio.\n",
    "    :return: Lista de resultados evaluados.\n",
    "    \"\"\"\n",
    "    x = sp.symbols('x')\n",
    "    return [polynomial.evalf(subs={x: val}) for val in x_values]\n",
    "\n",
    "# Puntos dados\n",
    "points = [(0, 0), (1, 1), (2, 2), (3, 3)]\n",
    "\n",
    "# Calcular el polinomio de Lagrange y su orden\n",
    "polynomial, order = lagrange_polynomial(points)\n",
    "print(f\"Polinomio de Lagrange simplificado: {polynomial}\")\n",
    "print(f\"Orden del polinomio (original): {order}\")\n",
    "\n",
    "# Evaluar el polinomio en los puntos requeridos\n",
    "x_values = [3.78, 19.102]\n",
    "results = evaluate_polynomial(polynomial, x_values)\n",
    "\n",
    "# Mostrar resultados\n",
    "for x_val, result in zip(x_values, results):\n",
    "    print(f\"P({x_val}) = {result:.6f}\")\n"
   ]
  }
 ],
 "metadata": {
  "kernelspec": {
   "display_name": "base",
   "language": "python",
   "name": "python3"
  },
  "language_info": {
   "codemirror_mode": {
    "name": "ipython",
    "version": 3
   },
   "file_extension": ".py",
   "mimetype": "text/x-python",
   "name": "python",
   "nbconvert_exporter": "python",
   "pygments_lexer": "ipython3",
   "version": "3.12.4"
  }
 },
 "nbformat": 4,
 "nbformat_minor": 2
}
